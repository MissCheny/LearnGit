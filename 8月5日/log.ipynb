{
 "cells": [
  {
   "cell_type": "markdown",
   "id": "e53ebea1",
   "metadata": {},
   "source": [
    "vscoe设置搜索“@tag:notebookLayout”可以配置jupyter notebook的布局\n",
    "\n",
    "配置“Notebook › Markdown: Line Height”设为默认（即0），这样markdown单元格行间距更符合阅读习惯。"
   ]
  },
  {
   "cell_type": "markdown",
   "id": "345a0489",
   "metadata": {},
   "source": [
    "备份：\n",
    "\"editor.fontFamily\": \"Consolas, 'Courier New', monospace\""
   ]
  }
 ],
 "metadata": {
  "kernelspec": {
   "display_name": "Python 3",
   "language": "python",
   "name": "python3"
  },
  "language_info": {
   "codemirror_mode": {
    "name": "ipython",
    "version": 3
   },
   "file_extension": ".py",
   "mimetype": "text/x-python",
   "name": "python",
   "nbconvert_exporter": "python",
   "pygments_lexer": "ipython3",
   "version": "3.12.1"
  }
 },
 "nbformat": 4,
 "nbformat_minor": 5
}
