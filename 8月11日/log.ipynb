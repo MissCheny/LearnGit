{
 "cells": [
  {
   "cell_type": "markdown",
   "id": "86ef8cef",
   "metadata": {},
   "source": [
    "<link rel='stylesheet' href='../style.css'>\n",
    "\n",
    "无意中安装了 **“uBlock Origin”** 这个插件，可以自定义屏蔽网页元素，并且刷新后仍然能保持屏蔽效果。\n",
    "\n",
    "<a href='https://learngitbranching.js.org/'>git 练习网站</a>"
   ]
  },
  {
   "cell_type": "markdown",
   "id": "978bec9b",
   "metadata": {},
   "source": []
  }
 ],
 "metadata": {
  "language_info": {
   "name": "python"
  }
 },
 "nbformat": 4,
 "nbformat_minor": 5
}
