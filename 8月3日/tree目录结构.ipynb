{
 "cells": [
  {
   "cell_type": "markdown",
   "id": "cd5bed89",
   "metadata": {},
   "source": [
    "<link rel='stylesheet' href='../style.css'>\n",
    "\n",
    "`d:` 切换到D盘、`cd` 切换目录、`dir` 查看目录内容、`mkdir` 创建目录、`rmdir` 删除目录、`tree` 显示目录结构"
   ]
  },
  {
   "cell_type": "markdown",
   "id": "35400939",
   "metadata": {},
   "source": [
    "<style>\n",
    "    h4 {\n",
    "        color: indianred !important;\n",
    "        font-weight: bold !important;\n",
    "        text-align: left !important;\n",
    "        font-size: 19px !important;\n",
    "        margin-bottom: 10px !important; /* 增加标题与正文之间的间距 */\n",
    "    }\n",
    "</style>\n",
    "\n",
    "<table>\n",
    "<tr>\n",
    "<td style=\"vertical-align: top;\">\n",
    "\n",
    "**简洁** 模式显示：\n",
    "\n",
    "```powershell\n",
    "d:\n",
    "cd prac/.git\n",
    "tree\n",
    "```\n",
    "\n",
    "```powershell\n",
    "d:\n",
    "cd prac\n",
    "tree .git\n",
    "```\n",
    "\n",
    "\n",
    "</td>\n",
    "<td style=\"vertical-align: top;\">\n",
    "\n",
    "**详细** 模式显示：\n",
    "\n",
    "```powershell\n",
    "d:\n",
    "cd prac/.git\n",
    "tree /f\n",
    "```\n",
    "\n",
    "</td>\n",
    "\n",
    "</tr>\n",
    "</table>"
   ]
  },
  {
   "cell_type": "markdown",
   "id": "c99c2bca",
   "metadata": {},
   "source": [
    "<link rel='stylesheet' href='../style.css'>\n",
    "\n",
    "<table>\n",
    "<tr>\n",
    "<td style=\"width: 45%; padding-right: 15px; vertical-align: top;\">\n",
    "\n",
    "\n",
    "</td>\n",
    "<td style=\"vertical-align: top;\">\n",
    "\n",
    "\n",
    "\n",
    "\n",
    "</td>\n",
    "</tr>\n",
    "</table>"
   ]
  },
  {
   "cell_type": "markdown",
   "id": "8210b91f",
   "metadata": {},
   "source": [
    "<table>\n",
    "<tr>\n",
    "<td style=\"vertical-align: top;\">\n",
    "\n",
    "\n",
    "</td>\n",
    "<td style=\"vertical-align: top;\">\n",
    "\n",
    "\n",
    "\n",
    "\n",
    "</td>\n",
    "</tr>\n",
    "</table>"
   ]
  },
  {
   "cell_type": "markdown",
   "id": "9b346cb5",
   "metadata": {},
   "source": [
    "<table>\n",
    "<tr>\n",
    "<td style=\"vertical-align: top;\">\n",
    "\n",
    "```powershell\n",
    "\n",
    "```\n",
    "\n",
    "</td>\n",
    "<td style=\"vertical-align: top;\">\n",
    "\n",
    "```powershell\n",
    "\n",
    "```\n",
    "\n",
    "\n",
    "</td>\n",
    "</tr>\n",
    "</table>"
   ]
  },
  {
   "cell_type": "markdown",
   "id": "c82ce373",
   "metadata": {},
   "source": [
    "<table>\n",
    "<tr>\n",
    "<td style=\"vertical-align: top;\">\n",
    "\n",
    "```powershell\n",
    "\n",
    "```\n",
    "\n",
    "</td>\n",
    "<td style=\"vertical-align: top;\">\n",
    "\n",
    "```powershell\n",
    "\n",
    "```\n",
    "\n",
    "\n",
    "</td>\n",
    "</tr>\n",
    "</table>"
   ]
  }
 ],
 "metadata": {
  "language_info": {
   "name": "python"
  }
 },
 "nbformat": 4,
 "nbformat_minor": 5
}
