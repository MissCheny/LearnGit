{
 "cells": [
  {
   "cell_type": "markdown",
   "id": "dc2d2009",
   "metadata": {},
   "source": [
    "<link rel='stylesheet' href='../style.css'>\n",
    "\n",
    "#### Linuex\n"
   ]
  },
  {
   "cell_type": "markdown",
   "id": "20521753",
   "metadata": {},
   "source": [
    "```powershell\n",
    "d:  # 切换到磁盘D\n",
    "```"
   ]
  },
  {
   "cell_type": "markdown",
   "id": "df17780c",
   "metadata": {},
   "source": [
    "<link rel='stylesheet' href='../style.css'>\n",
    "\n",
    "`ls -lh` \n",
    "- `ls`：列出\n",
    "- `-l`：长格式\n",
    "- `-h`：人类可读的格式\n",
    "\n",
    "`cat <filename>`\n",
    "- `cat`（concatenate）：查看文本文件内容\n"
   ]
  },
  {
   "cell_type": "markdown",
   "id": "d262917e",
   "metadata": {},
   "source": [
    "<link rel='stylesheet' href='../style.css'>\n",
    "\n",
    "<a href='../4月2日 git内部原理\\git内部原理.ipynb'>git 内部原理</a>、<a href='../3月31日 基础的git命令\\bash命令1.ipynb'><code>% git cat-file -t 87d3</code></a>"
   ]
  },
  {
   "cell_type": "markdown",
   "id": "a813d845",
   "metadata": {},
   "source": [
    "`d: cd git-demo`"
   ]
  },
  {
   "cell_type": "markdown",
   "id": "c6d2889b",
   "metadata": {},
   "source": [
    "必须分开用两条命令\n",
    "```powershell\n",
    "d:              # 切换到d盘\n",
    "cd git-demo     # change directory to git-demo\n",
    "tree .git      # 查看.git目录结构\n",
    "```"
   ]
  },
  {
   "cell_type": "markdown",
   "id": "7fd87fde",
   "metadata": {},
   "source": [
    "<link rel='stylesheet' href='../style.css'>\n",
    "\n",
    "```markdown\n"
   ]
  }
 ],
 "metadata": {
  "language_info": {
   "name": "python"
  }
 },
 "nbformat": 4,
 "nbformat_minor": 5
}
