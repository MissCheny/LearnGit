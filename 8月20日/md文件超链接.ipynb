{
 "cells": [
  {
   "cell_type": "markdown",
   "id": "5e53ec2d",
   "metadata": {},
   "source": [
    "之前的.md文件的超链接不行，设置这个就可以了：  \n",
    "\"markdown.preview.openMarkdownLinks\": \"inEditor\""
   ]
  }
 ],
 "metadata": {
  "language_info": {
   "name": "python"
  }
 },
 "nbformat": 4,
 "nbformat_minor": 5
}
