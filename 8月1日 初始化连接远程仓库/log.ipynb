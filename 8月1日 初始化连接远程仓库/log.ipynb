{
 "cells": [
  {
   "cell_type": "markdown",
   "id": "ccd429d9",
   "metadata": {},
   "source": [
    "<link rel='stylesheet' href='../style.css'>\n",
    "\n",
    "#### git版本控制"
   ]
  },
  {
   "cell_type": "markdown",
   "id": "f3b5f0f5",
   "metadata": {},
   "source": [
    "\n",
    "```bash\n",
    "cd ML\n",
    "git init  # 初始化仓库\n",
    "git add.  # 添加所有文件到暂存区\n",
    "git commit -m \"初始化仓库并添加初始文件\"\n",
    "git remote add origin git@github.com:MissCheny/ML.git  # 设置远程仓库地址(SSH)\n",
    "\n",
    "# 若不小心设置的是HTTPS地址，需将其更改为SSH地址\n",
    "git remote set-url origin git@github.com:MissCheny/ML.git\n",
    "\n",
    "git remote -v  # 查看远程仓库地址\n",
    "```\n",
    "\n",
    "```markdown\n",
    "origin  git@github.com:MissCheny/ML.git (fetch)\n",
    "origin  git@github.com:MissCheny/ML.git (push)\n",
    "```"
   ]
  },
  {
   "cell_type": "markdown",
   "id": "4f597a8d",
   "metadata": {},
   "source": [
    "可以写成一行，换行内容用空格\n",
    "```bash\n",
    "eval $(ssh-agent -s)       # 添加私钥\n",
    "ssh-add ~/.ssh/id_ed25519  # 我的私钥地址\n",
    "```\n",
    "\n",
    "```markdown\n",
    "Agent pid 951\n",
    "Identity added: /c/Users/Lenovo/.ssh/id_ed25519 (1312808428@qq.com)\n",
    "```"
   ]
  },
  {
   "cell_type": "markdown",
   "id": "929e8a22",
   "metadata": {},
   "source": [
    "\n",
    "```bash\n",
    "ssh -T git@github.com  # 测试SSH是否连接成功\n",
    "```\n",
    "\n",
    "```markdown\n",
    "Hi MissCheny! You've successfully authenticated, but GitHub does not provide shell access.\n",
    "```"
   ]
  },
  {
   "cell_type": "markdown",
   "id": "ca1b6de5",
   "metadata": {},
   "source": [
    "\n",
    "```bash\n",
    "git push -u origin main # 推送到远程仓库\n",
    "```"
   ]
  },
  {
   "cell_type": "markdown",
   "id": "23f3beb6",
   "metadata": {},
   "source": [
    "<link rel='stylesheet' href='../style.css'>\n",
    "\n",
    "#### 激活速度\n",
    "- 之前配置的默认Bash终端，是导致激活速度慢的主要原因（已经注释掉了）。\n",
    "- .ipynb会比.py、.md启动速度要慢一点点\n",
    "\n",
    "#### 终端启动vscode\n",
    "用vscode代码ML文件命令\n",
    "```cmd\n",
    "code D:\\ML\n",
    "```\n",
    "\n",
    "#### Bash终端\n",
    "复制：`Ctrl+Shift+C`  \n",
    "粘贴：`Ctrl+Shift+V`\n",
    "\n",
    "#### 复习\n",
    "<a href='../4月17日 已提交到本地仓库的错误提交修改\\已提交到本地仓库的错误提交修改.md'>已提交到本地仓库的错误提交修改</a>"
   ]
  }
 ],
 "metadata": {
  "language_info": {
   "name": "python"
  }
 },
 "nbformat": 4,
 "nbformat_minor": 5
}
